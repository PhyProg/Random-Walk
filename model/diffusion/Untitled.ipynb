{
 "cells": [
  {
   "cell_type": "code",
   "execution_count": 1,
   "metadata": {},
   "outputs": [],
   "source": [
    "import sys\n",
    "\n",
    "sys.path.append(\"../../src/\")\n",
    "\n",
    "from model.diffusion.walker import Walker\n",
    "\n",
    "import numpy as np\n",
    "import matplotlib.pyplot as plt"
   ]
  },
  {
   "cell_type": "code",
   "execution_count": 2,
   "metadata": {},
   "outputs": [],
   "source": [
    "no_of_steps = 1e3\n",
    "dim = 3\n",
    "bounds = [(-100, 100), None, (1, 1)]"
   ]
  },
  {
   "cell_type": "code",
   "execution_count": 3,
   "metadata": {},
   "outputs": [
    {
     "name": "stdout",
     "output_type": "stream",
     "text": [
      "1\n"
     ]
    },
    {
     "ename": "ValueError",
     "evalue": "",
     "output_type": "error",
     "traceback": [
      "\u001b[1;31m---------------------------------------------------------------------------\u001b[0m",
      "\u001b[1;31mValueError\u001b[0m                                Traceback (most recent call last)",
      "\u001b[1;32m<ipython-input-3-eede2ab54a97>\u001b[0m in \u001b[0;36m<module>\u001b[1;34m\u001b[0m\n\u001b[1;32m----> 1\u001b[1;33m \u001b[0mwalker\u001b[0m \u001b[1;33m=\u001b[0m \u001b[0mWalker\u001b[0m\u001b[1;33m(\u001b[0m\u001b[0mno_of_steps\u001b[0m \u001b[1;33m=\u001b[0m \u001b[0mno_of_steps\u001b[0m\u001b[1;33m,\u001b[0m \u001b[0mdim\u001b[0m \u001b[1;33m=\u001b[0m \u001b[0mdim\u001b[0m\u001b[1;33m,\u001b[0m \u001b[0mbounds\u001b[0m \u001b[1;33m=\u001b[0m \u001b[0mbounds\u001b[0m\u001b[1;33m)\u001b[0m\u001b[1;33m\u001b[0m\u001b[1;33m\u001b[0m\u001b[0m\n\u001b[0m",
      "\u001b[1;32mC:\\Projects\\Random Walk\\src\\model\\diffusion\\walker.py\u001b[0m in \u001b[0;36m__init__\u001b[1;34m(self, no_of_steps, dim, bounds, start_position)\u001b[0m\n\u001b[0;32m     38\u001b[0m \u001b[1;33m\u001b[0m\u001b[0m\n\u001b[0;32m     39\u001b[0m         \u001b[0mself\u001b[0m\u001b[1;33m.\u001b[0m\u001b[0mstart_position\u001b[0m \u001b[1;33m=\u001b[0m \u001b[1;36m0\u001b[0m\u001b[1;33m\u001b[0m\u001b[1;33m\u001b[0m\u001b[0m\n\u001b[1;32m---> 40\u001b[1;33m         \u001b[0mself\u001b[0m\u001b[1;33m.\u001b[0m\u001b[0mupdate_start_position\u001b[0m\u001b[1;33m(\u001b[0m\u001b[0mstart_position\u001b[0m\u001b[1;33m)\u001b[0m\u001b[1;33m\u001b[0m\u001b[1;33m\u001b[0m\u001b[0m\n\u001b[0m\u001b[0;32m     41\u001b[0m \u001b[1;33m\u001b[0m\u001b[0m\n\u001b[0;32m     42\u001b[0m     \u001b[1;32mdef\u001b[0m \u001b[0mupdate_start_position\u001b[0m\u001b[1;33m(\u001b[0m\u001b[0mself\u001b[0m\u001b[1;33m,\u001b[0m \u001b[0mstart_position\u001b[0m\u001b[1;33m)\u001b[0m\u001b[1;33m:\u001b[0m\u001b[1;33m\u001b[0m\u001b[1;33m\u001b[0m\u001b[0m\n",
      "\u001b[1;32mC:\\Projects\\Random Walk\\src\\model\\diffusion\\walker.py\u001b[0m in \u001b[0;36mupdate_start_position\u001b[1;34m(self, start_position)\u001b[0m\n\u001b[0;32m     60\u001b[0m                 \u001b[1;32mif\u001b[0m \u001b[0mself\u001b[0m\u001b[1;33m.\u001b[0m\u001b[0mstart_position\u001b[0m\u001b[1;33m[\u001b[0m\u001b[0max\u001b[0m\u001b[1;33m]\u001b[0m \u001b[1;33m<\u001b[0m \u001b[0mnp\u001b[0m\u001b[1;33m.\u001b[0m\u001b[0mint\u001b[0m\u001b[1;33m(\u001b[0m\u001b[0mself\u001b[0m\u001b[1;33m.\u001b[0m\u001b[0mbounds\u001b[0m\u001b[1;33m[\u001b[0m\u001b[0max\u001b[0m\u001b[1;33m,\u001b[0m \u001b[1;36m0\u001b[0m\u001b[1;33m]\u001b[0m\u001b[1;33m)\u001b[0m \u001b[1;32mor\u001b[0m\u001b[0;31m \u001b[0m\u001b[0;31m\\\u001b[0m\u001b[1;33m\u001b[0m\u001b[1;33m\u001b[0m\u001b[0m\n\u001b[0;32m     61\u001b[0m                     \u001b[0mself\u001b[0m\u001b[1;33m.\u001b[0m\u001b[0mstart_position\u001b[0m\u001b[1;33m[\u001b[0m\u001b[0max\u001b[0m\u001b[1;33m]\u001b[0m \u001b[1;33m>\u001b[0m \u001b[0mnp\u001b[0m\u001b[1;33m.\u001b[0m\u001b[0mint\u001b[0m\u001b[1;33m(\u001b[0m\u001b[0mself\u001b[0m\u001b[1;33m.\u001b[0m\u001b[0mbounds\u001b[0m\u001b[1;33m[\u001b[0m\u001b[0max\u001b[0m\u001b[1;33m,\u001b[0m \u001b[1;36m1\u001b[0m\u001b[1;33m]\u001b[0m\u001b[1;33m)\u001b[0m\u001b[1;33m:\u001b[0m\u001b[1;33m\u001b[0m\u001b[1;33m\u001b[0m\u001b[0m\n\u001b[1;32m---> 62\u001b[1;33m                     \u001b[1;32mraise\u001b[0m \u001b[0mValueError\u001b[0m\u001b[1;33m\u001b[0m\u001b[1;33m\u001b[0m\u001b[0m\n\u001b[0m\u001b[0;32m     63\u001b[0m \u001b[1;33m\u001b[0m\u001b[0m\n\u001b[0;32m     64\u001b[0m     \u001b[1;32mdef\u001b[0m \u001b[0mget_default_start_position\u001b[0m\u001b[1;33m(\u001b[0m\u001b[0mself\u001b[0m\u001b[1;33m)\u001b[0m\u001b[1;33m:\u001b[0m\u001b[1;33m\u001b[0m\u001b[1;33m\u001b[0m\u001b[0m\n",
      "\u001b[1;31mValueError\u001b[0m: "
     ]
    }
   ],
   "source": [
    "walker = Walker(no_of_steps = no_of_steps, dim = dim, bounds = bounds)"
   ]
  },
  {
   "cell_type": "code",
   "execution_count": null,
   "metadata": {},
   "outputs": [],
   "source": [
    "walker.walk()"
   ]
  },
  {
   "cell_type": "code",
   "execution_count": null,
   "metadata": {},
   "outputs": [],
   "source": [
    "walker.get_evolution()[0, 99]"
   ]
  },
  {
   "cell_type": "code",
   "execution_count": null,
   "metadata": {},
   "outputs": [],
   "source": [
    "walker.get_position(axis = 0, step = 88)"
   ]
  },
  {
   "cell_type": "code",
   "execution_count": null,
   "metadata": {},
   "outputs": [],
   "source": [
    "np.sum(walker.moves[0, :100] > 0)"
   ]
  },
  {
   "cell_type": "code",
   "execution_count": null,
   "metadata": {},
   "outputs": [],
   "source": [
    "a = np.array([1, 2, 3])\n",
    "a.shape[0]"
   ]
  },
  {
   "cell_type": "code",
   "execution_count": 13,
   "metadata": {},
   "outputs": [],
   "source": [
    "x = np.linspace(1, 10, 100)\n",
    "y = np.linspace(1, 10, 100)\n",
    "\n",
    "g = np.meshgrid(x, y, y)"
   ]
  },
  {
   "cell_type": "code",
   "execution_count": 40,
   "metadata": {},
   "outputs": [],
   "source": [
    "dim = 3\n",
    "x = [3, 4, 5]\n",
    "coord = [np.zeros(x[i]) for i in range(dim)]"
   ]
  },
  {
   "cell_type": "code",
   "execution_count": 41,
   "metadata": {},
   "outputs": [
    {
     "data": {
      "text/plain": [
       "60"
      ]
     },
     "execution_count": 41,
     "metadata": {},
     "output_type": "execute_result"
    }
   ],
   "source": [
    "np.prod([coord[j].shape[0] for j in range(dim)])"
   ]
  },
  {
   "cell_type": "code",
   "execution_count": 42,
   "metadata": {},
   "outputs": [],
   "source": [
    "def el(coords, pos, until):\n",
    "    it = 0\n",
    "    while it < until:\n",
    "        pos, _ = divmod(pos, coords[it].shape[0])\n",
    "        it += 1\n",
    "    _, pos = divmod(pos, coords[until].shape[0])\n",
    "    return pos"
   ]
  },
  {
   "cell_type": "code",
   "execution_count": 43,
   "metadata": {},
   "outputs": [],
   "source": [
    "bounds = [(-1, 4), (-1, 5), (-1, 6)]"
   ]
  },
  {
   "cell_type": "code",
   "execution_count": 48,
   "metadata": {},
   "outputs": [
    {
     "name": "stdout",
     "output_type": "stream",
     "text": [
      "[0, 0, 0]\n",
      "[array([-1.,  0.,  0.]), array([1., 0., 0.]), array([ 0., -1.,  0.]), array([0., 1., 0.]), array([ 0.,  0., -1.]), array([0., 0., 1.])]\n",
      "[1, 0, 0]\n",
      "[array([0., 0., 0.]), array([2., 0., 0.]), array([ 1., -1.,  0.]), array([1., 1., 0.]), array([ 1.,  0., -1.]), array([1., 0., 1.])]\n",
      "[2, 0, 0]\n",
      "[array([1., 0., 0.]), array([3., 0., 0.]), array([ 2., -1.,  0.]), array([2., 1., 0.]), array([ 2.,  0., -1.]), array([2., 0., 1.])]\n",
      "[0, 1, 0]\n",
      "[array([-1.,  1.,  0.]), array([1., 1., 0.]), array([0., 0., 0.]), array([0., 2., 0.]), array([ 0.,  1., -1.]), array([0., 1., 1.])]\n",
      "[1, 1, 0]\n",
      "[array([0., 1., 0.]), array([2., 1., 0.]), array([1., 0., 0.]), array([1., 2., 0.]), array([ 1.,  1., -1.]), array([1., 1., 1.])]\n",
      "[2, 1, 0]\n",
      "[array([1., 1., 0.]), array([3., 1., 0.]), array([2., 0., 0.]), array([2., 2., 0.]), array([ 2.,  1., -1.]), array([2., 1., 1.])]\n",
      "[0, 2, 0]\n",
      "[array([-1.,  2.,  0.]), array([1., 2., 0.]), array([0., 1., 0.]), array([0., 3., 0.]), array([ 0.,  2., -1.]), array([0., 2., 1.])]\n",
      "[1, 2, 0]\n",
      "[array([0., 2., 0.]), array([2., 2., 0.]), array([1., 1., 0.]), array([1., 3., 0.]), array([ 1.,  2., -1.]), array([1., 2., 1.])]\n",
      "[2, 2, 0]\n",
      "[array([1., 2., 0.]), array([3., 2., 0.]), array([2., 1., 0.]), array([2., 3., 0.]), array([ 2.,  2., -1.]), array([2., 2., 1.])]\n",
      "[0, 3, 0]\n",
      "[array([-1.,  3.,  0.]), array([1., 3., 0.]), array([0., 2., 0.]), array([0., 4., 0.]), array([ 0.,  3., -1.]), array([0., 3., 1.])]\n",
      "[1, 3, 0]\n",
      "[array([0., 3., 0.]), array([2., 3., 0.]), array([1., 2., 0.]), array([1., 4., 0.]), array([ 1.,  3., -1.]), array([1., 3., 1.])]\n",
      "[2, 3, 0]\n",
      "[array([1., 3., 0.]), array([3., 3., 0.]), array([2., 2., 0.]), array([2., 4., 0.]), array([ 2.,  3., -1.]), array([2., 3., 1.])]\n",
      "[0, 0, 1]\n",
      "[array([-1.,  0.,  1.]), array([1., 0., 1.]), array([ 0., -1.,  1.]), array([0., 1., 1.]), array([0., 0., 0.]), array([0., 0., 2.])]\n",
      "[1, 0, 1]\n",
      "[array([0., 0., 1.]), array([2., 0., 1.]), array([ 1., -1.,  1.]), array([1., 1., 1.]), array([1., 0., 0.]), array([1., 0., 2.])]\n",
      "[2, 0, 1]\n",
      "[array([1., 0., 1.]), array([3., 0., 1.]), array([ 2., -1.,  1.]), array([2., 1., 1.]), array([2., 0., 0.]), array([2., 0., 2.])]\n",
      "[0, 1, 1]\n",
      "[array([-1.,  1.,  1.]), array([1., 1., 1.]), array([0., 0., 1.]), array([0., 2., 1.]), array([0., 1., 0.]), array([0., 1., 2.])]\n",
      "[1, 1, 1]\n",
      "[array([0., 1., 1.]), array([2., 1., 1.]), array([1., 0., 1.]), array([1., 2., 1.]), array([1., 1., 0.]), array([1., 1., 2.])]\n",
      "[2, 1, 1]\n",
      "[array([1., 1., 1.]), array([3., 1., 1.]), array([2., 0., 1.]), array([2., 2., 1.]), array([2., 1., 0.]), array([2., 1., 2.])]\n",
      "[0, 2, 1]\n",
      "[array([-1.,  2.,  1.]), array([1., 2., 1.]), array([0., 1., 1.]), array([0., 3., 1.]), array([0., 2., 0.]), array([0., 2., 2.])]\n",
      "[1, 2, 1]\n",
      "[array([0., 2., 1.]), array([2., 2., 1.]), array([1., 1., 1.]), array([1., 3., 1.]), array([1., 2., 0.]), array([1., 2., 2.])]\n",
      "[2, 2, 1]\n",
      "[array([1., 2., 1.]), array([3., 2., 1.]), array([2., 1., 1.]), array([2., 3., 1.]), array([2., 2., 0.]), array([2., 2., 2.])]\n",
      "[0, 3, 1]\n",
      "[array([-1.,  3.,  1.]), array([1., 3., 1.]), array([0., 2., 1.]), array([0., 4., 1.]), array([0., 3., 0.]), array([0., 3., 2.])]\n",
      "[1, 3, 1]\n",
      "[array([0., 3., 1.]), array([2., 3., 1.]), array([1., 2., 1.]), array([1., 4., 1.]), array([1., 3., 0.]), array([1., 3., 2.])]\n",
      "[2, 3, 1]\n",
      "[array([1., 3., 1.]), array([3., 3., 1.]), array([2., 2., 1.]), array([2., 4., 1.]), array([2., 3., 0.]), array([2., 3., 2.])]\n",
      "[0, 0, 2]\n",
      "[array([-1.,  0.,  2.]), array([1., 0., 2.]), array([ 0., -1.,  2.]), array([0., 1., 2.]), array([0., 0., 1.]), array([0., 0., 3.])]\n",
      "[1, 0, 2]\n",
      "[array([0., 0., 2.]), array([2., 0., 2.]), array([ 1., -1.,  2.]), array([1., 1., 2.]), array([1., 0., 1.]), array([1., 0., 3.])]\n",
      "[2, 0, 2]\n",
      "[array([1., 0., 2.]), array([3., 0., 2.]), array([ 2., -1.,  2.]), array([2., 1., 2.]), array([2., 0., 1.]), array([2., 0., 3.])]\n",
      "[0, 1, 2]\n",
      "[array([-1.,  1.,  2.]), array([1., 1., 2.]), array([0., 0., 2.]), array([0., 2., 2.]), array([0., 1., 1.]), array([0., 1., 3.])]\n",
      "[1, 1, 2]\n",
      "[array([0., 1., 2.]), array([2., 1., 2.]), array([1., 0., 2.]), array([1., 2., 2.]), array([1., 1., 1.]), array([1., 1., 3.])]\n",
      "[2, 1, 2]\n",
      "[array([1., 1., 2.]), array([3., 1., 2.]), array([2., 0., 2.]), array([2., 2., 2.]), array([2., 1., 1.]), array([2., 1., 3.])]\n",
      "[0, 2, 2]\n",
      "[array([-1.,  2.,  2.]), array([1., 2., 2.]), array([0., 1., 2.]), array([0., 3., 2.]), array([0., 2., 1.]), array([0., 2., 3.])]\n",
      "[1, 2, 2]\n",
      "[array([0., 2., 2.]), array([2., 2., 2.]), array([1., 1., 2.]), array([1., 3., 2.]), array([1., 2., 1.]), array([1., 2., 3.])]\n",
      "[2, 2, 2]\n",
      "[array([1., 2., 2.]), array([3., 2., 2.]), array([2., 1., 2.]), array([2., 3., 2.]), array([2., 2., 1.]), array([2., 2., 3.])]\n",
      "[0, 3, 2]\n",
      "[array([-1.,  3.,  2.]), array([1., 3., 2.]), array([0., 2., 2.]), array([0., 4., 2.]), array([0., 3., 1.]), array([0., 3., 3.])]\n",
      "[1, 3, 2]\n",
      "[array([0., 3., 2.]), array([2., 3., 2.]), array([1., 2., 2.]), array([1., 4., 2.]), array([1., 3., 1.]), array([1., 3., 3.])]\n",
      "[2, 3, 2]\n",
      "[array([1., 3., 2.]), array([3., 3., 2.]), array([2., 2., 2.]), array([2., 4., 2.]), array([2., 3., 1.]), array([2., 3., 3.])]\n",
      "[0, 0, 3]\n",
      "[array([-1.,  0.,  3.]), array([1., 0., 3.]), array([ 0., -1.,  3.]), array([0., 1., 3.]), array([0., 0., 2.]), array([0., 0., 4.])]\n",
      "[1, 0, 3]\n",
      "[array([0., 0., 3.]), array([2., 0., 3.]), array([ 1., -1.,  3.]), array([1., 1., 3.]), array([1., 0., 2.]), array([1., 0., 4.])]\n",
      "[2, 0, 3]\n",
      "[array([1., 0., 3.]), array([3., 0., 3.]), array([ 2., -1.,  3.]), array([2., 1., 3.]), array([2., 0., 2.]), array([2., 0., 4.])]\n",
      "[0, 1, 3]\n",
      "[array([-1.,  1.,  3.]), array([1., 1., 3.]), array([0., 0., 3.]), array([0., 2., 3.]), array([0., 1., 2.]), array([0., 1., 4.])]\n",
      "[1, 1, 3]\n",
      "[array([0., 1., 3.]), array([2., 1., 3.]), array([1., 0., 3.]), array([1., 2., 3.]), array([1., 1., 2.]), array([1., 1., 4.])]\n",
      "[2, 1, 3]\n",
      "[array([1., 1., 3.]), array([3., 1., 3.]), array([2., 0., 3.]), array([2., 2., 3.]), array([2., 1., 2.]), array([2., 1., 4.])]\n",
      "[0, 2, 3]\n",
      "[array([-1.,  2.,  3.]), array([1., 2., 3.]), array([0., 1., 3.]), array([0., 3., 3.]), array([0., 2., 2.]), array([0., 2., 4.])]\n",
      "[1, 2, 3]\n",
      "[array([0., 2., 3.]), array([2., 2., 3.]), array([1., 1., 3.]), array([1., 3., 3.]), array([1., 2., 2.]), array([1., 2., 4.])]\n",
      "[2, 2, 3]\n",
      "[array([1., 2., 3.]), array([3., 2., 3.]), array([2., 1., 3.]), array([2., 3., 3.]), array([2., 2., 2.]), array([2., 2., 4.])]\n",
      "[0, 3, 3]\n",
      "[array([-1.,  3.,  3.]), array([1., 3., 3.]), array([0., 2., 3.]), array([0., 4., 3.]), array([0., 3., 2.]), array([0., 3., 4.])]\n",
      "[1, 3, 3]\n",
      "[array([0., 3., 3.]), array([2., 3., 3.]), array([1., 2., 3.]), array([1., 4., 3.]), array([1., 3., 2.]), array([1., 3., 4.])]\n",
      "[2, 3, 3]\n",
      "[array([1., 3., 3.]), array([3., 3., 3.]), array([2., 2., 3.]), array([2., 4., 3.]), array([2., 3., 2.]), array([2., 3., 4.])]\n",
      "[0, 0, 4]\n",
      "[array([-1.,  0.,  4.]), array([1., 0., 4.]), array([ 0., -1.,  4.]), array([0., 1., 4.]), array([0., 0., 3.]), array([0., 0., 5.])]\n",
      "[1, 0, 4]\n",
      "[array([0., 0., 4.]), array([2., 0., 4.]), array([ 1., -1.,  4.]), array([1., 1., 4.]), array([1., 0., 3.]), array([1., 0., 5.])]\n",
      "[2, 0, 4]\n",
      "[array([1., 0., 4.]), array([3., 0., 4.]), array([ 2., -1.,  4.]), array([2., 1., 4.]), array([2., 0., 3.]), array([2., 0., 5.])]\n",
      "[0, 1, 4]\n",
      "[array([-1.,  1.,  4.]), array([1., 1., 4.]), array([0., 0., 4.]), array([0., 2., 4.]), array([0., 1., 3.]), array([0., 1., 5.])]\n",
      "[1, 1, 4]\n",
      "[array([0., 1., 4.]), array([2., 1., 4.]), array([1., 0., 4.]), array([1., 2., 4.]), array([1., 1., 3.]), array([1., 1., 5.])]\n",
      "[2, 1, 4]\n",
      "[array([1., 1., 4.]), array([3., 1., 4.]), array([2., 0., 4.]), array([2., 2., 4.]), array([2., 1., 3.]), array([2., 1., 5.])]\n",
      "[0, 2, 4]\n",
      "[array([-1.,  2.,  4.]), array([1., 2., 4.]), array([0., 1., 4.]), array([0., 3., 4.]), array([0., 2., 3.]), array([0., 2., 5.])]\n",
      "[1, 2, 4]\n",
      "[array([0., 2., 4.]), array([2., 2., 4.]), array([1., 1., 4.]), array([1., 3., 4.]), array([1., 2., 3.]), array([1., 2., 5.])]\n",
      "[2, 2, 4]\n",
      "[array([1., 2., 4.]), array([3., 2., 4.]), array([2., 1., 4.]), array([2., 3., 4.]), array([2., 2., 3.]), array([2., 2., 5.])]\n",
      "[0, 3, 4]\n",
      "[array([-1.,  3.,  4.]), array([1., 3., 4.]), array([0., 2., 4.]), array([0., 4., 4.]), array([0., 3., 3.]), array([0., 3., 5.])]\n",
      "[1, 3, 4]\n",
      "[array([0., 3., 4.]), array([2., 3., 4.]), array([1., 2., 4.]), array([1., 4., 4.]), array([1., 3., 3.]), array([1., 3., 5.])]\n",
      "[2, 3, 4]\n",
      "[array([1., 3., 4.]), array([3., 3., 4.]), array([2., 2., 4.]), array([2., 4., 4.]), array([2., 3., 3.]), array([2., 3., 5.])]\n"
     ]
    }
   ],
   "source": [
    "for i in range(np.prod([coord[j].shape[0] for j in range(dim)])):\n",
    "    curr = [el(coord, i, j) for j in range(dim)]\n",
    "    print(curr)\n",
    "    print(list(around_dd(np.array(curr), bounds, dr = np.ones(dim))))"
   ]
  },
  {
   "cell_type": "code",
   "execution_count": 38,
   "metadata": {},
   "outputs": [],
   "source": [
    "def around_dd(coord, bounds, dr = None):\n",
    "    dim = coord.shape[0]\n",
    "    if dr is None:\n",
    "        dr = np.ones(dim)\n",
    "    ret = []\n",
    "    sign = [-1, 1]\n",
    "    for i in range(dim):\n",
    "        for sgn in sign:\n",
    "            ddr = np.zeros(dim)\n",
    "            ddr[i] = sgn * dr[i]\n",
    "            temp = coord + ddr \n",
    "            if temp[i] >= bounds[i][0] and temp[i] <= bounds[i][1]:\n",
    "                yield temp\n",
    "    return ret"
   ]
  },
  {
   "cell_type": "code",
   "execution_count": 49,
   "metadata": {},
   "outputs": [
    {
     "ename": "TypeError",
     "evalue": "cannot unpack non-iterable int object",
     "output_type": "error",
     "traceback": [
      "\u001b[1;31m---------------------------------------------------------------------------\u001b[0m",
      "\u001b[1;31mTypeError\u001b[0m                                 Traceback (most recent call last)",
      "\u001b[1;32m<ipython-input-49-f84f76d86b46>\u001b[0m in \u001b[0;36m<module>\u001b[1;34m\u001b[0m\n\u001b[1;32m----> 1\u001b[1;33m \u001b[1;32mfor\u001b[0m \u001b[0mi\u001b[0m\u001b[1;33m,\u001b[0m \u001b[0mj\u001b[0m \u001b[1;32min\u001b[0m \u001b[0mrange\u001b[0m\u001b[1;33m(\u001b[0m\u001b[1;36m6\u001b[0m\u001b[1;33m)\u001b[0m\u001b[1;33m:\u001b[0m\u001b[1;33m\u001b[0m\u001b[1;33m\u001b[0m\u001b[0m\n\u001b[0m\u001b[0;32m      2\u001b[0m     \u001b[0mprint\u001b[0m\u001b[1;33m(\u001b[0m\u001b[0mi\u001b[0m\u001b[1;33m,\u001b[0m \u001b[0mj\u001b[0m\u001b[1;33m)\u001b[0m\u001b[1;33m\u001b[0m\u001b[1;33m\u001b[0m\u001b[0m\n",
      "\u001b[1;31mTypeError\u001b[0m: cannot unpack non-iterable int object"
     ]
    }
   ],
   "source": [
    "for i, j in range(6):\n",
    "    print(i, j)"
   ]
  },
  {
   "cell_type": "code",
   "execution_count": null,
   "metadata": {},
   "outputs": [],
   "source": []
  }
 ],
 "metadata": {
  "kernelspec": {
   "display_name": "Python 3",
   "language": "python",
   "name": "python3"
  },
  "language_info": {
   "codemirror_mode": {
    "name": "ipython",
    "version": 3
   },
   "file_extension": ".py",
   "mimetype": "text/x-python",
   "name": "python",
   "nbconvert_exporter": "python",
   "pygments_lexer": "ipython3",
   "version": "3.7.1"
  }
 },
 "nbformat": 4,
 "nbformat_minor": 2
}
