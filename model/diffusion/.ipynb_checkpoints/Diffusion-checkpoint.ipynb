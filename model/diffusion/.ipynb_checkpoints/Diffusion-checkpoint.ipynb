{
 "cells": [
  {
   "cell_type": "markdown",
   "metadata": {},
   "source": [
    "# Diffusion"
   ]
  },
  {
   "cell_type": "code",
   "execution_count": null,
   "metadata": {},
   "outputs": [],
   "source": []
  },
  {
   "cell_type": "code",
   "execution_count": 1,
   "metadata": {},
   "outputs": [],
   "source": [
    "import sys\n",
    "\n",
    "sys.path.append(\"../../src/\")\n",
    "\n",
    "from model.diffusion.diffusion import Diffusion\n",
    "\n",
    "import numpy as np\n",
    "import matplotlib.pyplot as plt\n",
    "import matplotlib.animation as animation"
   ]
  },
  {
   "cell_type": "code",
   "execution_count": 2,
   "metadata": {},
   "outputs": [],
   "source": [
    "diff = Diffusion(grid_size = (100, 100), no_of_particles = 1000)"
   ]
  },
  {
   "cell_type": "code",
   "execution_count": 3,
   "metadata": {},
   "outputs": [],
   "source": [
    "time = 1e2"
   ]
  },
  {
   "cell_type": "code",
   "execution_count": 4,
   "metadata": {},
   "outputs": [],
   "source": [
    "diff.run(time)"
   ]
  },
  {
   "cell_type": "code",
   "execution_count": 25,
   "metadata": {},
   "outputs": [
    {
     "data": {
      "text/plain": [
       "2"
      ]
     },
     "execution_count": 25,
     "metadata": {},
     "output_type": "execute_result"
    }
   ],
   "source": [
    "diff.density(time = 2).ndim"
   ]
  },
  {
   "cell_type": "code",
   "execution_count": 36,
   "metadata": {},
   "outputs": [
    {
     "data": {
      "image/png": "[encoded data removed]",
      "text/plain": [
       "<Figure size 432x288 with 2 Axes>"
      ]
     },
     "metadata": {
      "needs_background": "light"
     },
     "output_type": "display_data"
    }
   ],
   "source": [
    "fig = plt.figure()\n",
    "\n",
    "ax = fig.add_subplot(111)\n",
    "ax.grid()\n",
    "\n",
    "def animation_function(frame):\n",
    "    dens = 0\n",
    "    X, Y = 0, 0\n",
    "    dens = diff.density(time = frame, cell_size = [3, 3])\n",
    "    X, Y = np.meshgrid(np.linspace(0, dens.shape[0], dens.shape[0]), np.linspace(0, dens.shape[1], dens.shape[1]))\n",
    "    ax.clear()\n",
    "    cs = ax.contour(X, Y, dens, levels = np.linspace(0, np.max(dens), 11))\n",
    "    txt = ax.text(0.05, 0.9, '')\n",
    "    txt.set_text('')\n",
    "    fig.colorbar(cs)\n",
    "    return ax, txt\n",
    "\n",
    "ani = animation.FuncAnimation(fig, animation_function, \\\n",
    "                                frames = range(int(time)), \\\n",
    "                                interval = 1, \\\n",
    "                                 blit = True)\n",
    "plt.show()"
   ]
  },
  {
   "cell_type": "code",
   "execution_count": 6,
   "metadata": {},
   "outputs": [],
   "source": [
    "fig = plt.figure()\n",
    "\n",
    "ax = fig.add_subplot(111)\n",
    "ax.grid()\n",
    "\n",
    "def animation_function(frame):\n",
    "    dens = 0\n",
    "    X, Y = 0, 0\n",
    "    dens = diff.density(time = frame, cell_size = [3, 3])\n",
    "    X, Y = np.meshgrid(np.linspace(0, dens.shape[0], dens.shape[0]), np.linspace(0, dens.shape[1], dens.shape[1]))\n",
    "    ax.clear()\n",
    "    cs = ax.contour(X, Y, dens, levels = np.linspace(0, np.max(dens), 11))\n",
    "    txt = ax.text(0.05, 0.9, '')\n",
    "    txt.set_text('')\n",
    "    fig.colorbar(cs)\n",
    "    return ax, txt\n",
    "\n",
    "ani = animation.FuncAnimation(fig, animation_function, \\\n",
    "                                frames = range(int(time)), \\\n",
    "                                interval = 1, \\\n",
    "                                 blit = True)\n",
    "plt.show()"
   ]
  },
  {
   "cell_type": "code",
   "execution_count": null,
   "metadata": {},
   "outputs": [],
   "source": []
  },
  {
   "cell_type": "code",
   "execution_count": null,
   "metadata": {},
   "outputs": [],
   "source": []
  }
 ],
 "metadata": {
  "kernelspec": {
   "display_name": "Python 3",
   "language": "python",
   "name": "python3"
  },
  "language_info": {
   "codemirror_mode": {
    "name": "ipython",
    "version": 3
   },
   "file_extension": ".py",
   "mimetype": "text/x-python",
   "name": "python",
   "nbconvert_exporter": "python",
   "pygments_lexer": "ipython3",
   "version": "3.7.1"
  }
 },
 "nbformat": 4,
 "nbformat_minor": 2
}
