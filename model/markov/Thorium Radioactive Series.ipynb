{
 "cells": [
  {
   "cell_type": "markdown",
   "metadata": {},
   "source": [
    "# Radioactive decay chain\n",
    "\n",
    "See:\n",
    "\n",
    "https://en.wikipedia.org/wiki/Decay_chain"
   ]
  },
  {
   "cell_type": "code",
   "execution_count": null,
   "metadata": {},
   "outputs": [],
   "source": [
    "import sys\n",
    "\n",
    "sys.path.insert(0, \"..\\\\..\\\\src\")\n",
    "sys.path.insert(0, \"..\\\\..\\\\src\\\\env\")\n",
    "sys.path.insert(0, \"..\\\\..\\\\src\\\\walker\")\n",
    "sys.path.insert(0, \"..\\\\..\\\\src\\\\model\")\n",
    "sys.path.insert(0, \"..\\\\..\\\\src\\\\model\\\\markov\\\\\")"
   ]
  },
  {
   "cell_type": "code",
   "execution_count": null,
   "metadata": {},
   "outputs": [],
   "source": [
    "from model.markov.markov_chain_model import MarkovChainModel\n",
    "from model.markov.master_equation_integrator import MasterEquationIntegrator"
   ]
  },
  {
   "cell_type": "code",
   "execution_count": null,
   "metadata": {},
   "outputs": [],
   "source": [
    "import numpy as np\n",
    "import matplotlib.pyplot as plt"
   ]
  },
  {
   "cell_type": "code",
   "execution_count": null,
   "metadata": {},
   "outputs": [],
   "source": [
    "th_series_population = [0 for i in range(18)]\n",
    "th_series_population.insert(0, 10000)"
   ]
  },
  {
   "cell_type": "code",
   "execution_count": null,
   "metadata": {},
   "outputs": [],
   "source": [
    "th_series_transition_probabilities = np.zeros((19, 19), dtype = np.float64)"
   ]
  },
  {
   "cell_type": "code",
   "execution_count": null,
   "metadata": {},
   "outputs": [],
   "source": [
    "half_lifes = 60 * 60 * np.array([2.645 * 365 * 24, \\\n",
    "                                 3.5 * 10 ** 5 * 365 * 24, \\\n",
    "                                 8 * 10 ** 7 * 365 * 24, \\\n",
    "                                 14.1, \\\n",
    "                                 1.032, \\\n",
    "                                 6561 * 365 * 24, \\\n",
    "                                 2.3 * 10 ** 7 * 365 * 24, \\\n",
    "                                 1.405 * 10 ** 10 * 365 * 24, \\\n",
    "                                 5.75 * 365 * 24, \\\n",
    "                                 6.25, \\\n",
    "                                 1.9116 * 365 * 24, \\\n",
    "                                 3.6319 * 24, \\\n",
    "                                 55.6 / (60 * 60), \\\n",
    "                                 0.145 / (60 * 60), \\\n",
    "                                 10.64])"
   ]
  },
  {
   "cell_type": "code",
   "execution_count": null,
   "metadata": {},
   "outputs": [],
   "source": [
    "for i in range(half_lifes.shape[0]):\n",
    "    th_series_transition_probabilities[i][i + 1] = 1 / half_lifes[i]"
   ]
  },
  {
   "cell_type": "code",
   "execution_count": null,
   "metadata": {},
   "outputs": [],
   "source": [
    "th_series_transition_probabilities[15][16] = 1 / (60.55 * 60 * 0.64)\n",
    "th_series_transition_probabilities[15][17] = 1 / (60.55 * 60 * 0.36)\n",
    "\n",
    "th_series_transition_probabilities[16][18] = 1 / (299 * 10 ** (-9))\n",
    "th_series_transition_probabilities[17][18] = 1 / (3.053 * 60)"
   ]
  },
  {
   "cell_type": "code",
   "execution_count": null,
   "metadata": {},
   "outputs": [],
   "source": [
    "th_series_transition_probabilities = np.log(2) * th_series_transition_probabilities"
   ]
  },
  {
   "cell_type": "code",
   "execution_count": null,
   "metadata": {},
   "outputs": [],
   "source": [
    "thorium_series = MarkovChainModel(node_population = th_series_population, \\\n",
    "                                  transition_matrix = th_series_transition_probabilities,\n",
    "                                  dt = 10,\n",
    "                                  error = 1e-18)"
   ]
  },
  {
   "cell_type": "code",
   "execution_count": null,
   "metadata": {},
   "outputs": [],
   "source": [
    "thorium_series.run(time = 1e6)"
   ]
  },
  {
   "cell_type": "code",
   "execution_count": null,
   "metadata": {},
   "outputs": [],
   "source": []
  }
 ],
 "metadata": {
  "kernelspec": {
   "display_name": "Python 3",
   "language": "python",
   "name": "python3"
  },
  "language_info": {
   "codemirror_mode": {
    "name": "ipython",
    "version": 3
   },
   "file_extension": ".py",
   "mimetype": "text/x-python",
   "name": "python",
   "nbconvert_exporter": "python",
   "pygments_lexer": "ipython3",
   "version": "3.7.1"
  }
 },
 "nbformat": 4,
 "nbformat_minor": 2
}
