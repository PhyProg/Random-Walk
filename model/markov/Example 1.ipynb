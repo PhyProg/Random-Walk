{
 "cells": [
  {
   "cell_type": "markdown",
   "metadata": {},
   "source": [
    "# Discrete Markov process experimental model 1"
   ]
  },
  {
   "cell_type": "code",
   "execution_count": 1,
   "metadata": {},
   "outputs": [],
   "source": [
    "import sys\n",
    "\n",
    "sys.path.insert(0, \"..\\\\..\\\\src\")\n",
    "sys.path.insert(0, \"..\\\\..\\\\src\\\\env\")\n",
    "sys.path.insert(0, \"..\\\\..\\\\src\\\\walker\")\n",
    "sys.path.insert(0, \"..\\\\..\\\\src\\\\model\")\n",
    "sys.path.insert(0, \"..\\\\..\\\\src\\\\model\\\\markov\\\\\")"
   ]
  },
  {
   "cell_type": "code",
   "execution_count": 2,
   "metadata": {},
   "outputs": [
    {
     "data": {
      "text/plain": [
       "['..\\\\..\\\\src\\\\model\\\\markov\\\\',\n",
       " '..\\\\..\\\\src\\\\model',\n",
       " '..\\\\..\\\\src\\\\walker',\n",
       " '..\\\\..\\\\src\\\\env',\n",
       " '..\\\\..\\\\src',\n",
       " 'C:\\\\Projects\\\\Random Walk\\\\model\\\\markov',\n",
       " 'C:\\\\ProgramData\\\\Anaconda3\\\\python37.zip',\n",
       " 'C:\\\\ProgramData\\\\Anaconda3\\\\DLLs',\n",
       " 'C:\\\\ProgramData\\\\Anaconda3\\\\lib',\n",
       " 'C:\\\\ProgramData\\\\Anaconda3',\n",
       " '',\n",
       " 'C:\\\\Users\\\\Zeljko-PC\\\\AppData\\\\Roaming\\\\Python\\\\Python37\\\\site-packages',\n",
       " 'C:\\\\ProgramData\\\\Anaconda3\\\\lib\\\\site-packages',\n",
       " 'C:\\\\ProgramData\\\\Anaconda3\\\\lib\\\\site-packages\\\\win32',\n",
       " 'C:\\\\ProgramData\\\\Anaconda3\\\\lib\\\\site-packages\\\\win32\\\\lib',\n",
       " 'C:\\\\ProgramData\\\\Anaconda3\\\\lib\\\\site-packages\\\\Pythonwin',\n",
       " 'C:\\\\ProgramData\\\\Anaconda3\\\\lib\\\\site-packages\\\\IPython\\\\extensions',\n",
       " 'C:\\\\Users\\\\Zeljko-PC\\\\.ipython']"
      ]
     },
     "execution_count": 2,
     "metadata": {},
     "output_type": "execute_result"
    }
   ],
   "source": [
    "sys.path"
   ]
  },
  {
   "cell_type": "code",
   "execution_count": 3,
   "metadata": {},
   "outputs": [],
   "source": [
    "from model.markov.markov_chain_model import MarkovChainModel"
   ]
  },
  {
   "cell_type": "code",
   "execution_count": 4,
   "metadata": {},
   "outputs": [],
   "source": [
    "import numpy as np\n",
    "import matplotlib.pyplot as plt"
   ]
  },
  {
   "cell_type": "code",
   "execution_count": null,
   "metadata": {},
   "outputs": [],
   "source": [
    "model = MarkovChainModel(node_population = 1 * np.array([10, 20, 35, 45, 50]), dt = 1e-5)\n",
    "\n",
    "transition_matrix = [[0, 0, 0, 0, 0],\\\n",
    "                     [1, 0, 1, 1, 1],\\\n",
    "                     [1, 1, 0, 1, 0],\\\n",
    "                     [1, 0, 0, 0, 1],\\\n",
    "                     [1, 1, 1, 1, 0]]\n",
    "\n",
    "transition_matrix = np.array(transition_matrix, dtype = np.float) * 5\n",
    "\n",
    "model.add_transition_probabilities_to_nodes_(transition_matrix)\n",
    "\n",
    "model.run(time = 1e0)\n",
    "\n",
    "ts, arr = model.get_population_time_series(nodes = [0, 1, 2, 3, 4])\n",
    "\n",
    "import matplotlib.pyplot as plt\n",
    "i = 0\n",
    "for ar in arr:\n",
    "    plt.plot(ts, ar, label = str(i))\n",
    "    i += 1\n",
    "plt.legend()\n",
    "plt.show()"
   ]
  },
  {
   "cell_type": "code",
   "execution_count": null,
   "metadata": {},
   "outputs": [],
   "source": [
    "model = MarkovChainModel(node_population = 10 * np.array([10, 20, 35, 45, 50]), dt = 1e-5)\n",
    "\n",
    "transition_matrix = [[0, 0, 0, 0, 0],\\\n",
    "                     [1, 0, 1, 1, 1],\\\n",
    "                     [1, 1, 0, 1, 0],\\\n",
    "                     [1, 0, 0, 0, 1],\\\n",
    "                     [1, 1, 1, 1, 0]]\n",
    "\n",
    "transition_matrix = np.array(transition_matrix, dtype = np.float) * 5\n",
    "\n",
    "model.add_transition_probabilities_to_nodes_(transition_matrix)\n",
    "\n",
    "model.run(time = 1e0)\n",
    "\n",
    "ts, arr = model.get_population_time_series(nodes = [0, 1, 2, 3, 4])\n",
    "\n",
    "import matplotlib.pyplot as plt\n",
    "i = 0\n",
    "for ar in arr:\n",
    "    plt.plot(ts, ar, label = str(i))\n",
    "    i += 1\n",
    "plt.legend()\n",
    "plt.show()"
   ]
  },
  {
   "cell_type": "code",
   "execution_count": null,
   "metadata": {},
   "outputs": [],
   "source": [
    "model = MarkovChainModel(node_population = 100 * np.array([10, 0, 5]), dt = 1e-5)\n",
    "\n",
    "transition_matrix = [[0, 3, 0],\\\n",
    "                     [0, 0, 1],\\\n",
    "                     [0, 0, 0]]\n",
    "\n",
    "transition_matrix = np.array(transition_matrix, dtype = np.float) * 5\n",
    "\n",
    "model.add_transition_probabilities_to_nodes_(transition_matrix)\n",
    "\n",
    "model.run(time = 1e0)\n",
    "\n",
    "ts, arr = model.get_population_time_series(nodes = [0, 1, 2])\n",
    "\n",
    "import matplotlib.pyplot as plt\n",
    "i = 0\n",
    "for ar in arr:\n",
    "    plt.plot(ts, ar, label = str(i))\n",
    "    i += 1\n",
    "plt.legend()\n",
    "plt.show()"
   ]
  },
  {
   "cell_type": "code",
   "execution_count": null,
   "metadata": {},
   "outputs": [],
   "source": [
    "all_data = np.append([ts], arr)\n",
    "all_data = np.array([all_data[(i - 1) * arr[0].shape : i * arr[0].shape] for i in range(1, 5)])\n",
    "np.savetxt(\"../../data/out/model/markov/example_1.txt\", all_data)"
   ]
  },
  {
   "cell_type": "code",
   "execution_count": null,
   "metadata": {},
   "outputs": [],
   "source": [
    "all_data.shape"
   ]
  },
  {
   "cell_type": "code",
   "execution_count": null,
   "metadata": {},
   "outputs": [],
   "source": [
    "all_data = all_data.reshape(4, arr[0].shape[0])"
   ]
  },
  {
   "cell_type": "code",
   "execution_count": null,
   "metadata": {},
   "outputs": [],
   "source": [
    "plt.plot(all_data[0], all_data[1])"
   ]
  },
  {
   "cell_type": "code",
   "execution_count": null,
   "metadata": {},
   "outputs": [],
   "source": [
    "all_data"
   ]
  },
  {
   "cell_type": "code",
   "execution_count": null,
   "metadata": {},
   "outputs": [],
   "source": []
  }
 ],
 "metadata": {
  "kernelspec": {
   "display_name": "Python 3",
   "language": "python",
   "name": "python3"
  },
  "language_info": {
   "codemirror_mode": {
    "name": "ipython",
    "version": 3
   },
   "file_extension": ".py",
   "mimetype": "text/x-python",
   "name": "python",
   "nbconvert_exporter": "python",
   "pygments_lexer": "ipython3",
   "version": "3.7.1"
  }
 },
 "nbformat": 4,
 "nbformat_minor": 2
}
