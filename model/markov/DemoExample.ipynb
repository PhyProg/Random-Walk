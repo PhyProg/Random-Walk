{
 "cells": [
  {
   "cell_type": "code",
   "execution_count": 1,
   "metadata": {},
   "outputs": [],
   "source": [
    "import sys\n",
    "\n",
    "sys.path.insert(0, \"../../src\")\n",
    "sys.path.insert(0, \"../../src/env\")\n",
    "sys.path.insert(0, \"../../src/walker\")"
   ]
  },
  {
   "cell_type": "code",
   "execution_count": 2,
   "metadata": {},
   "outputs": [],
   "source": [
    "import numpy as np\n",
    "import matplotlib.pyplot as plt"
   ]
  },
  {
   "cell_type": "code",
   "execution_count": 3,
   "metadata": {},
   "outputs": [],
   "source": [
    "from node import Node\n",
    "from graph import Graph\n",
    "from walker import Walker\n",
    "from markov import Markov"
   ]
  },
  {
   "cell_type": "code",
   "execution_count": 20,
   "metadata": {},
   "outputs": [],
   "source": [
    "chain = Graph()"
   ]
  },
  {
   "cell_type": "code",
   "execution_count": 21,
   "metadata": {},
   "outputs": [],
   "source": [
    "decision = Markov(transition_probability = 0.05)"
   ]
  },
  {
   "cell_type": "code",
   "execution_count": 22,
   "metadata": {},
   "outputs": [],
   "source": [
    "nodes = []\n",
    "no_of_nodes = 20\n",
    "\n",
    "for i in range(no_of_nodes):\n",
    "    node = Node(no_of_walkers_inside = 0)\n",
    "    nodes.append(node)"
   ]
  },
  {
   "cell_type": "code",
   "execution_count": 23,
   "metadata": {},
   "outputs": [],
   "source": [
    "for i in range(no_of_nodes):\n",
    "    chain.add_node(nodes[i])"
   ]
  },
  {
   "cell_type": "code",
   "execution_count": 24,
   "metadata": {},
   "outputs": [
    {
     "name": "stdout",
     "output_type": "stream",
     "text": [
      "{'node_id': 'E3KJ7LK41USMOC332Z1JYZG2U18Z1F', 'next_ids': [], 'prev_ids': [], 'no_of_walkers_inside': 0}\n",
      "{'node_id': 'Y4UNG8C0WBT9RJCLHRCYO4A18MV1IT', 'next_ids': [], 'prev_ids': [], 'no_of_walkers_inside': 0}\n",
      "{'node_id': 'YRPZWWM3HD1JPMDO2RSN81CNMA1EHK', 'next_ids': [], 'prev_ids': [], 'no_of_walkers_inside': 0}\n",
      "{'node_id': 'FH9R5OMLMTKK0PPG0BPKY0PKLZJ01U', 'next_ids': [], 'prev_ids': [], 'no_of_walkers_inside': 0}\n",
      "{'node_id': 'W1KH9ZNL5QBEQKN9Y2TODTFP6H5YHK', 'next_ids': [], 'prev_ids': [], 'no_of_walkers_inside': 0}\n",
      "{'node_id': 'AFJDMKRWE2P79ECRFW5H18SVJVMZVC', 'next_ids': [], 'prev_ids': [], 'no_of_walkers_inside': 0}\n",
      "{'node_id': '5Y9VCGVEJD83KNAL73BM0TCVL9BNBD', 'next_ids': [], 'prev_ids': [], 'no_of_walkers_inside': 0}\n",
      "{'node_id': '9S2SZAODYFY0K08Q2WT3E7P267LF6T', 'next_ids': [], 'prev_ids': [], 'no_of_walkers_inside': 0}\n",
      "{'node_id': 'I65LHTWRD6RF1BGRKJ6E9DR6CUDUVH', 'next_ids': [], 'prev_ids': [], 'no_of_walkers_inside': 0}\n",
      "{'node_id': 'I7J5QJ2R60DL19CUBYAC26EAKAPWJI', 'next_ids': [], 'prev_ids': [], 'no_of_walkers_inside': 0}\n",
      "{'node_id': 'FWYLACH7U6QZ22CXDCASFCXLGA6J3X', 'next_ids': [], 'prev_ids': [], 'no_of_walkers_inside': 0}\n",
      "{'node_id': '2DA03CIXYUBR869PKYN7CN55ZL41UE', 'next_ids': [], 'prev_ids': [], 'no_of_walkers_inside': 0}\n",
      "{'node_id': 'VTD6WK5R3PKJZ0OOQYQ5LM3XIQ15TB', 'next_ids': [], 'prev_ids': [], 'no_of_walkers_inside': 0}\n",
      "{'node_id': 'EFY1ZACHE7UDYB9M2P1IPKC4UAESZ4', 'next_ids': [], 'prev_ids': [], 'no_of_walkers_inside': 0}\n",
      "{'node_id': 'LB9Q3OPBUBI6CKV31KLQXCI1RHU8Q0', 'next_ids': [], 'prev_ids': [], 'no_of_walkers_inside': 0}\n",
      "{'node_id': 'H8MYH4R4S7Z3TH51U4N0LZJU71Z07O', 'next_ids': [], 'prev_ids': [], 'no_of_walkers_inside': 0}\n",
      "{'node_id': 'A1GC8N3VJB5NTTF7UXG2KZ1AEFBYEG', 'next_ids': [], 'prev_ids': [], 'no_of_walkers_inside': 0}\n",
      "{'node_id': 'Z39AZC1Z9IJKYWU9TIJGC0T694M9QV', 'next_ids': [], 'prev_ids': [], 'no_of_walkers_inside': 0}\n",
      "{'node_id': '46AGSKHFNJQFV2RK9B48K8893SK0W5', 'next_ids': [], 'prev_ids': [], 'no_of_walkers_inside': 0}\n",
      "{'node_id': 'ICKW3HUIW4Z51P03EW5VYF98RBV5SZ', 'next_ids': [], 'prev_ids': [], 'no_of_walkers_inside': 0}\n"
     ]
    }
   ],
   "source": [
    "for node in chain.nodes.values():\n",
    "    print(node.__dict__)"
   ]
  },
  {
   "cell_type": "code",
   "execution_count": 25,
   "metadata": {},
   "outputs": [],
   "source": [
    "keys = chain.get_keys()\n",
    "for i in range(5):\n",
    "    chain.add_connection(keys[i], keys[i + 1])\n",
    "    \n",
    "for i in range(1,4):\n",
    "    chain.add_connection(keys[5], keys[5 + i])\n",
    "    chain.add_connection(keys[5 + i], keys[9])\n",
    "    \n",
    "for i in range(9, 16):\n",
    "    chain.add_connection(keys[i], keys[i + 1])\n",
    "    \n",
    "for i in range(16, no_of_nodes):\n",
    "    chain.add_connection(keys[15], keys[i])"
   ]
  },
  {
   "cell_type": "code",
   "execution_count": 26,
   "metadata": {},
   "outputs": [],
   "source": [
    "walker = Walker(initial_id = keys[0], next_step_processor = decision)"
   ]
  },
  {
   "cell_type": "code",
   "execution_count": 27,
   "metadata": {},
   "outputs": [
    {
     "data": {
      "text/plain": [
       "{'step': 0,\n",
       " 'visited': ['E3KJ7LK41USMOC332Z1JYZG2U18Z1F'],\n",
       " 'data': {},\n",
       " 'is_processing_data': False,\n",
       " 'is_processor_same_for_all_data': False,\n",
       " 'data_processors': [],\n",
       " 'keys_to_collect': [],\n",
       " 'next_step_processor': <markov.Markov at 0xd3b8cb35c0>}"
      ]
     },
     "execution_count": 27,
     "metadata": {},
     "output_type": "execute_result"
    }
   ],
   "source": [
    "walker.__dict__"
   ]
  },
  {
   "cell_type": "code",
   "execution_count": 28,
   "metadata": {},
   "outputs": [],
   "source": [
    "dt = 1e-3\n",
    "t = 1e2\n",
    "times = np.arange(0, t, dt)"
   ]
  },
  {
   "cell_type": "code",
   "execution_count": 29,
   "metadata": {},
   "outputs": [],
   "source": [
    "for i in range(times.shape[0]):\n",
    "    current = walker.current_position()\n",
    "    next_positions = chain.next(current)\n",
    "    prob = np.ones(len(next_positions))\n",
    "    walker.walk(next_positions, probability_mass_function = prob, current_state = current)"
   ]
  },
  {
   "cell_type": "code",
   "execution_count": 31,
   "metadata": {
    "scrolled": false
   },
   "outputs": [
    {
     "data": {
      "text/plain": [
       "{'2DA03CIXYUBR869PKYN7CN55ZL41UE',\n",
       " 'AFJDMKRWE2P79ECRFW5H18SVJVMZVC',\n",
       " 'E3KJ7LK41USMOC332Z1JYZG2U18Z1F',\n",
       " 'EFY1ZACHE7UDYB9M2P1IPKC4UAESZ4',\n",
       " 'FH9R5OMLMTKK0PPG0BPKY0PKLZJ01U',\n",
       " 'FWYLACH7U6QZ22CXDCASFCXLGA6J3X',\n",
       " 'H8MYH4R4S7Z3TH51U4N0LZJU71Z07O',\n",
       " 'I65LHTWRD6RF1BGRKJ6E9DR6CUDUVH',\n",
       " 'I7J5QJ2R60DL19CUBYAC26EAKAPWJI',\n",
       " 'LB9Q3OPBUBI6CKV31KLQXCI1RHU8Q0',\n",
       " 'VTD6WK5R3PKJZ0OOQYQ5LM3XIQ15TB',\n",
       " 'W1KH9ZNL5QBEQKN9Y2TODTFP6H5YHK',\n",
       " 'Y4UNG8C0WBT9RJCLHRCYO4A18MV1IT',\n",
       " 'YRPZWWM3HD1JPMDO2RSN81CNMA1EHK',\n",
       " 'Z39AZC1Z9IJKYWU9TIJGC0T694M9QV'}"
      ]
     },
     "execution_count": 31,
     "metadata": {},
     "output_type": "execute_result"
    }
   ],
   "source": [
    "set(walker.visited)"
   ]
  },
  {
   "cell_type": "code",
   "execution_count": null,
   "metadata": {},
   "outputs": [],
   "source": []
  }
 ],
 "metadata": {
  "kernelspec": {
   "display_name": "Python 3",
   "language": "python",
   "name": "python3"
  },
  "language_info": {
   "codemirror_mode": {
    "name": "ipython",
    "version": 3
   },
   "file_extension": ".py",
   "mimetype": "text/x-python",
   "name": "python",
   "nbconvert_exporter": "python",
   "pygments_lexer": "ipython3",
   "version": "3.7.1"
  }
 },
 "nbformat": 4,
 "nbformat_minor": 2
}
